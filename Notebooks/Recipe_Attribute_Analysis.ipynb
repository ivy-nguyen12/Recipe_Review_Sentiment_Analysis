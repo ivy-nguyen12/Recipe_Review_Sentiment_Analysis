{
  "cells": [
    {
      "cell_type": "markdown",
      "metadata": {
        "id": "8963aa9c"
      },
      "source": [
        "# Recipe Attribute Analysis\n",
        "\n",
        "This notebook analyzes how recipe-level features affect average user ratings using machine learning models."
      ]
    },
    {
      "cell_type": "markdown",
      "metadata": {
        "id": "b52178b0"
      },
      "source": [
        "## 1. Data Loading & Preparation"
      ]
    },
    {
      "cell_type": "markdown",
      "metadata": {
        "id": "ba532ced"
      },
      "source": [
        "We load both `RAW_recipes.csv` and `RAW_interactions.csv`, then merge them to get average rating per recipe."
      ]
    },
    {
      "cell_type": "code",
      "execution_count": null,
      "metadata": {
        "id": "tOXBiIUONy69"
      },
      "outputs": [],
      "source": [
        "import pandas as pd\n",
        "import numpy as np\n",
        "import matplotlib.pyplot as plt\n",
        "import seaborn as sns"
      ]
    },
    {
      "cell_type": "markdown",
      "metadata": {
        "id": "YSTxEApnNy69"
      },
      "source": [
        "## Data Handling"
      ]
    },
    {
      "cell_type": "markdown",
      "metadata": {
        "id": "14f80f36"
      },
      "source": [
        "### 1. Load Datasets"
      ]
    },
    {
      "cell_type": "code",
      "execution_count": null,
      "metadata": {
        "id": "NOnUBrsuNy6-"
      },
      "outputs": [],
      "source": [
        "recipe = pd.read_csv(\"RAW_recipes.csv\")\n",
        "interactions = pd.read_csv(\"RAW_interactions.csv\")"
      ]
    },
    {
      "cell_type": "code",
      "execution_count": null,
      "metadata": {
        "id": "hRxJiyb7Ny6-",
        "outputId": "5683b573-aa04-4662-c76a-4772d972220f"
      },
      "outputs": [
        {
          "data": {
            "text/plain": [
              "True"
            ]
          },
          "execution_count": 99,
          "metadata": {},
          "output_type": "execute_result"
        }
      ],
      "source": [
        "len(recipe[\"id\"].unique()) == len(recipe)"
      ]
    },
    {
      "cell_type": "code",
      "execution_count": null,
      "metadata": {
        "id": "MHjI0IbQNy6-"
      },
      "outputs": [],
      "source": [
        "avg_rating = interactions.groupby('recipe_id')[\"rating\"].mean().reset_index()"
      ]
    },
    {
      "cell_type": "code",
      "execution_count": null,
      "metadata": {
        "id": "ZMIfM9vSNy6-"
      },
      "outputs": [],
      "source": [
        "# Merge recipe data with average user ratings\n",
        "recipe_all = recipe.merge(avg_rating, left_on=\"id\", right_on=\"recipe_id\", how=\"left\")"
      ]
    },
    {
      "cell_type": "code",
      "execution_count": null,
      "metadata": {
        "id": "QYoEoghnNy6-"
      },
      "outputs": [],
      "source": [
        "recipe_all.drop(\"recipe_id\", axis=1, inplace=True)"
      ]
    },
    {
      "cell_type": "code",
      "execution_count": null,
      "metadata": {
        "id": "dRjAMo76Ny6-",
        "outputId": "8c69ccc1-dff3-4eec-de93-3ece5e6c7b84"
      },
      "outputs": [
        {
          "data": {
            "text/html": [
              "<div>\n",
              "<style scoped>\n",
              "    .dataframe tbody tr th:only-of-type {\n",
              "        vertical-align: middle;\n",
              "    }\n",
              "\n",
              "    .dataframe tbody tr th {\n",
              "        vertical-align: top;\n",
              "    }\n",
              "\n",
              "    .dataframe thead th {\n",
              "        text-align: right;\n",
              "    }\n",
              "</style>\n",
              "<table border=\"1\" class=\"dataframe\">\n",
              "  <thead>\n",
              "    <tr style=\"text-align: right;\">\n",
              "      <th></th>\n",
              "      <th>name</th>\n",
              "      <th>id</th>\n",
              "      <th>minutes</th>\n",
              "      <th>contributor_id</th>\n",
              "      <th>submitted</th>\n",
              "      <th>tags</th>\n",
              "      <th>nutrition</th>\n",
              "      <th>n_steps</th>\n",
              "      <th>steps</th>\n",
              "      <th>description</th>\n",
              "      <th>ingredients</th>\n",
              "      <th>n_ingredients</th>\n",
              "      <th>rating</th>\n",
              "    </tr>\n",
              "  </thead>\n",
              "  <tbody>\n",
              "    <tr>\n",
              "      <th>0</th>\n",
              "      <td>arriba   baked winter squash mexican style</td>\n",
              "      <td>137739</td>\n",
              "      <td>55</td>\n",
              "      <td>47892</td>\n",
              "      <td>2005-09-16</td>\n",
              "      <td>['60-minutes-or-less', 'time-to-make', 'course...</td>\n",
              "      <td>[51.5, 0.0, 13.0, 0.0, 2.0, 0.0, 4.0]</td>\n",
              "      <td>11</td>\n",
              "      <td>['make a choice and proceed with recipe', 'dep...</td>\n",
              "      <td>autumn is my favorite time of year to cook! th...</td>\n",
              "      <td>['winter squash', 'mexican seasoning', 'mixed ...</td>\n",
              "      <td>7</td>\n",
              "      <td>5.0</td>\n",
              "    </tr>\n",
              "    <tr>\n",
              "      <th>1</th>\n",
              "      <td>a bit different  breakfast pizza</td>\n",
              "      <td>31490</td>\n",
              "      <td>30</td>\n",
              "      <td>26278</td>\n",
              "      <td>2002-06-17</td>\n",
              "      <td>['30-minutes-or-less', 'time-to-make', 'course...</td>\n",
              "      <td>[173.4, 18.0, 0.0, 17.0, 22.0, 35.0, 1.0]</td>\n",
              "      <td>9</td>\n",
              "      <td>['preheat oven to 425 degrees f', 'press dough...</td>\n",
              "      <td>this recipe calls for the crust to be prebaked...</td>\n",
              "      <td>['prepared pizza crust', 'sausage patty', 'egg...</td>\n",
              "      <td>6</td>\n",
              "      <td>3.5</td>\n",
              "    </tr>\n",
              "    <tr>\n",
              "      <th>2</th>\n",
              "      <td>all in the kitchen  chili</td>\n",
              "      <td>112140</td>\n",
              "      <td>130</td>\n",
              "      <td>196586</td>\n",
              "      <td>2005-02-25</td>\n",
              "      <td>['time-to-make', 'course', 'preparation', 'mai...</td>\n",
              "      <td>[269.8, 22.0, 32.0, 48.0, 39.0, 27.0, 5.0]</td>\n",
              "      <td>6</td>\n",
              "      <td>['brown ground beef in large pot', 'add choppe...</td>\n",
              "      <td>this modified version of 'mom's' chili was a h...</td>\n",
              "      <td>['ground beef', 'yellow onions', 'diced tomato...</td>\n",
              "      <td>13</td>\n",
              "      <td>4.0</td>\n",
              "    </tr>\n",
              "    <tr>\n",
              "      <th>3</th>\n",
              "      <td>alouette  potatoes</td>\n",
              "      <td>59389</td>\n",
              "      <td>45</td>\n",
              "      <td>68585</td>\n",
              "      <td>2003-04-14</td>\n",
              "      <td>['60-minutes-or-less', 'time-to-make', 'course...</td>\n",
              "      <td>[368.1, 17.0, 10.0, 2.0, 14.0, 8.0, 20.0]</td>\n",
              "      <td>11</td>\n",
              "      <td>['place potatoes in a large pot of lightly sal...</td>\n",
              "      <td>this is a super easy, great tasting, make ahea...</td>\n",
              "      <td>['spreadable cheese with garlic and herbs', 'n...</td>\n",
              "      <td>11</td>\n",
              "      <td>4.5</td>\n",
              "    </tr>\n",
              "    <tr>\n",
              "      <th>4</th>\n",
              "      <td>amish  tomato ketchup  for canning</td>\n",
              "      <td>44061</td>\n",
              "      <td>190</td>\n",
              "      <td>41706</td>\n",
              "      <td>2002-10-25</td>\n",
              "      <td>['weeknight', 'time-to-make', 'course', 'main-...</td>\n",
              "      <td>[352.9, 1.0, 337.0, 23.0, 3.0, 0.0, 28.0]</td>\n",
              "      <td>5</td>\n",
              "      <td>['mix all ingredients&amp; boil for 2 1 / 2 hours ...</td>\n",
              "      <td>my dh's amish mother raised him on this recipe...</td>\n",
              "      <td>['tomato juice', 'apple cider vinegar', 'sugar...</td>\n",
              "      <td>8</td>\n",
              "      <td>5.0</td>\n",
              "    </tr>\n",
              "  </tbody>\n",
              "</table>\n",
              "</div>"
            ],
            "text/plain": [
              "                                         name      id  minutes  \\\n",
              "0  arriba   baked winter squash mexican style  137739       55   \n",
              "1            a bit different  breakfast pizza   31490       30   \n",
              "2                   all in the kitchen  chili  112140      130   \n",
              "3                          alouette  potatoes   59389       45   \n",
              "4          amish  tomato ketchup  for canning   44061      190   \n",
              "\n",
              "   contributor_id   submitted  \\\n",
              "0           47892  2005-09-16   \n",
              "1           26278  2002-06-17   \n",
              "2          196586  2005-02-25   \n",
              "3           68585  2003-04-14   \n",
              "4           41706  2002-10-25   \n",
              "\n",
              "                                                tags  \\\n",
              "0  ['60-minutes-or-less', 'time-to-make', 'course...   \n",
              "1  ['30-minutes-or-less', 'time-to-make', 'course...   \n",
              "2  ['time-to-make', 'course', 'preparation', 'mai...   \n",
              "3  ['60-minutes-or-less', 'time-to-make', 'course...   \n",
              "4  ['weeknight', 'time-to-make', 'course', 'main-...   \n",
              "\n",
              "                                    nutrition  n_steps  \\\n",
              "0       [51.5, 0.0, 13.0, 0.0, 2.0, 0.0, 4.0]       11   \n",
              "1   [173.4, 18.0, 0.0, 17.0, 22.0, 35.0, 1.0]        9   \n",
              "2  [269.8, 22.0, 32.0, 48.0, 39.0, 27.0, 5.0]        6   \n",
              "3   [368.1, 17.0, 10.0, 2.0, 14.0, 8.0, 20.0]       11   \n",
              "4   [352.9, 1.0, 337.0, 23.0, 3.0, 0.0, 28.0]        5   \n",
              "\n",
              "                                               steps  \\\n",
              "0  ['make a choice and proceed with recipe', 'dep...   \n",
              "1  ['preheat oven to 425 degrees f', 'press dough...   \n",
              "2  ['brown ground beef in large pot', 'add choppe...   \n",
              "3  ['place potatoes in a large pot of lightly sal...   \n",
              "4  ['mix all ingredients& boil for 2 1 / 2 hours ...   \n",
              "\n",
              "                                         description  \\\n",
              "0  autumn is my favorite time of year to cook! th...   \n",
              "1  this recipe calls for the crust to be prebaked...   \n",
              "2  this modified version of 'mom's' chili was a h...   \n",
              "3  this is a super easy, great tasting, make ahea...   \n",
              "4  my dh's amish mother raised him on this recipe...   \n",
              "\n",
              "                                         ingredients  n_ingredients  rating  \n",
              "0  ['winter squash', 'mexican seasoning', 'mixed ...              7     5.0  \n",
              "1  ['prepared pizza crust', 'sausage patty', 'egg...              6     3.5  \n",
              "2  ['ground beef', 'yellow onions', 'diced tomato...             13     4.0  \n",
              "3  ['spreadable cheese with garlic and herbs', 'n...             11     4.5  \n",
              "4  ['tomato juice', 'apple cider vinegar', 'sugar...              8     5.0  "
            ]
          },
          "execution_count": 103,
          "metadata": {},
          "output_type": "execute_result"
        }
      ],
      "source": [
        "recipe_all.head()"
      ]
    },
    {
      "cell_type": "markdown",
      "metadata": {
        "id": "c8166f5f"
      },
      "source": [
        "### 2. Feature Engineering"
      ]
    },
    {
      "cell_type": "code",
      "execution_count": null,
      "metadata": {
        "id": "dyHCurHENy6-"
      },
      "outputs": [],
      "source": [
        "import ast\n",
        "recipe_all[\"n_tags\"] = recipe_all[\"tags\"].apply(lambda x: len(ast.literal_eval(x)))"
      ]
    },
    {
      "cell_type": "code",
      "execution_count": null,
      "metadata": {
        "id": "p0YUB8KBNy6-",
        "outputId": "5f0f8b37-76dd-49dc-af49-ffab27b82510"
      },
      "outputs": [
        {
          "data": {
            "text/plain": [
              "70.5"
            ]
          },
          "execution_count": 105,
          "metadata": {},
          "output_type": "execute_result"
        }
      ],
      "source": [
        "sum([51.5, 0.0, 13.0, 0.0, 2.0, 0.0, 4.0])"
      ]
    },
    {
      "cell_type": "code",
      "execution_count": null,
      "metadata": {
        "id": "Ro36W0aMNy6-"
      },
      "outputs": [],
      "source": [
        "# Create total nutrition feature\n",
        "recipe_all[\"nutrition_sum\"] = recipe_all[\"nutrition\"].apply(lambda x: sum(ast.literal_eval(x)))"
      ]
    },
    {
      "cell_type": "code",
      "execution_count": null,
      "metadata": {
        "id": "nyWsizlbNy6_",
        "outputId": "cd531d0c-fc79-4811-b047-437d136ce0de"
      },
      "outputs": [
        {
          "data": {
            "text/plain": [
              "0         2005-09-16\n",
              "1         2002-06-17\n",
              "2         2005-02-25\n",
              "3         2003-04-14\n",
              "4         2002-10-25\n",
              "             ...    \n",
              "231632    2012-08-29\n",
              "231633    2013-01-09\n",
              "231634    2008-06-07\n",
              "231635    2008-04-15\n",
              "231636    2008-04-15\n",
              "Name: submitted, Length: 231637, dtype: object"
            ]
          },
          "execution_count": 107,
          "metadata": {},
          "output_type": "execute_result"
        }
      ],
      "source": [
        "recipe_all[\"submitted\"]"
      ]
    },
    {
      "cell_type": "code",
      "execution_count": null,
      "metadata": {
        "id": "TJRk4AMrNy6_"
      },
      "outputs": [],
      "source": [
        "recipe_all[\"submitted\"] = pd.to_datetime(recipe_all[\"submitted\"])"
      ]
    },
    {
      "cell_type": "code",
      "execution_count": null,
      "metadata": {
        "id": "GsZbllxONy6_"
      },
      "outputs": [],
      "source": [
        "recipe_all[\"year\"] = recipe_all[\"submitted\"].dt.year\n",
        "recipe_all[\"month\"] = recipe_all[\"submitted\"].dt.month\n",
        "recipe_all[\"day\"] = recipe_all[\"submitted\"].dt.day"
      ]
    },
    {
      "cell_type": "code",
      "execution_count": null,
      "metadata": {
        "id": "ieJ_NekGNy6_"
      },
      "outputs": [],
      "source": [
        "recipe_all[\"total_year_from_submission\"] = 2019 - recipe_all[\"year\"]"
      ]
    },
    {
      "cell_type": "code",
      "execution_count": null,
      "metadata": {
        "id": "jf9FovzRNy6_"
      },
      "outputs": [],
      "source": [
        "\n",
        "numeric_independent_columns = [\"minutes\", \"n_steps\", \"n_ingredients\", \"n_tags\", \"nutrition_sum\", \"total_year_from_submission\"]\n",
        "X = recipe_all[numeric_independent_columns]\n",
        "y = recipe_all[\"rating\"]"
      ]
    },
    {
      "cell_type": "code",
      "execution_count": null,
      "metadata": {
        "id": "wibcfY5YNy6_",
        "outputId": "41e3dc55-338e-4170-8873-806143cc8dbf"
      },
      "outputs": [
        {
          "data": {
            "text/html": [
              "<div>\n",
              "<style scoped>\n",
              "    .dataframe tbody tr th:only-of-type {\n",
              "        vertical-align: middle;\n",
              "    }\n",
              "\n",
              "    .dataframe tbody tr th {\n",
              "        vertical-align: top;\n",
              "    }\n",
              "\n",
              "    .dataframe thead th {\n",
              "        text-align: right;\n",
              "    }\n",
              "</style>\n",
              "<table border=\"1\" class=\"dataframe\">\n",
              "  <thead>\n",
              "    <tr style=\"text-align: right;\">\n",
              "      <th></th>\n",
              "      <th>minutes</th>\n",
              "      <th>n_steps</th>\n",
              "      <th>n_ingredients</th>\n",
              "      <th>n_tags</th>\n",
              "      <th>nutrition_sum</th>\n",
              "      <th>total_year_from_submission</th>\n",
              "      <th>rating</th>\n",
              "    </tr>\n",
              "  </thead>\n",
              "  <tbody>\n",
              "    <tr>\n",
              "      <th>minutes</th>\n",
              "      <td>1.000000</td>\n",
              "      <td>-0.000257</td>\n",
              "      <td>-0.000592</td>\n",
              "      <td>-0.000824</td>\n",
              "      <td>-0.000185</td>\n",
              "      <td>-0.000423</td>\n",
              "      <td>0.000812</td>\n",
              "    </tr>\n",
              "    <tr>\n",
              "      <th>n_steps</th>\n",
              "      <td>-0.000257</td>\n",
              "      <td>1.000000</td>\n",
              "      <td>0.427705</td>\n",
              "      <td>-0.075640</td>\n",
              "      <td>0.060083</td>\n",
              "      <td>-0.068641</td>\n",
              "      <td>-0.027834</td>\n",
              "    </tr>\n",
              "    <tr>\n",
              "      <th>n_ingredients</th>\n",
              "      <td>-0.000592</td>\n",
              "      <td>0.427705</td>\n",
              "      <td>1.000000</td>\n",
              "      <td>-0.068197</td>\n",
              "      <td>0.046249</td>\n",
              "      <td>-0.041361</td>\n",
              "      <td>-0.007943</td>\n",
              "    </tr>\n",
              "    <tr>\n",
              "      <th>n_tags</th>\n",
              "      <td>-0.000824</td>\n",
              "      <td>-0.075640</td>\n",
              "      <td>-0.068197</td>\n",
              "      <td>1.000000</td>\n",
              "      <td>-0.022466</td>\n",
              "      <td>0.215108</td>\n",
              "      <td>0.002371</td>\n",
              "    </tr>\n",
              "    <tr>\n",
              "      <th>nutrition_sum</th>\n",
              "      <td>-0.000185</td>\n",
              "      <td>0.060083</td>\n",
              "      <td>0.046249</td>\n",
              "      <td>-0.022466</td>\n",
              "      <td>1.000000</td>\n",
              "      <td>0.031621</td>\n",
              "      <td>-0.020680</td>\n",
              "    </tr>\n",
              "    <tr>\n",
              "      <th>total_year_from_submission</th>\n",
              "      <td>-0.000423</td>\n",
              "      <td>-0.068641</td>\n",
              "      <td>-0.041361</td>\n",
              "      <td>0.215108</td>\n",
              "      <td>0.031621</td>\n",
              "      <td>1.000000</td>\n",
              "      <td>-0.009546</td>\n",
              "    </tr>\n",
              "    <tr>\n",
              "      <th>rating</th>\n",
              "      <td>0.000812</td>\n",
              "      <td>-0.027834</td>\n",
              "      <td>-0.007943</td>\n",
              "      <td>0.002371</td>\n",
              "      <td>-0.020680</td>\n",
              "      <td>-0.009546</td>\n",
              "      <td>1.000000</td>\n",
              "    </tr>\n",
              "  </tbody>\n",
              "</table>\n",
              "</div>"
            ],
            "text/plain": [
              "                             minutes   n_steps  n_ingredients    n_tags  \\\n",
              "minutes                     1.000000 -0.000257      -0.000592 -0.000824   \n",
              "n_steps                    -0.000257  1.000000       0.427705 -0.075640   \n",
              "n_ingredients              -0.000592  0.427705       1.000000 -0.068197   \n",
              "n_tags                     -0.000824 -0.075640      -0.068197  1.000000   \n",
              "nutrition_sum              -0.000185  0.060083       0.046249 -0.022466   \n",
              "total_year_from_submission -0.000423 -0.068641      -0.041361  0.215108   \n",
              "rating                      0.000812 -0.027834      -0.007943  0.002371   \n",
              "\n",
              "                            nutrition_sum  total_year_from_submission  \\\n",
              "minutes                         -0.000185                   -0.000423   \n",
              "n_steps                          0.060083                   -0.068641   \n",
              "n_ingredients                    0.046249                   -0.041361   \n",
              "n_tags                          -0.022466                    0.215108   \n",
              "nutrition_sum                    1.000000                    0.031621   \n",
              "total_year_from_submission       0.031621                    1.000000   \n",
              "rating                          -0.020680                   -0.009546   \n",
              "\n",
              "                              rating  \n",
              "minutes                     0.000812  \n",
              "n_steps                    -0.027834  \n",
              "n_ingredients              -0.007943  \n",
              "n_tags                      0.002371  \n",
              "nutrition_sum              -0.020680  \n",
              "total_year_from_submission -0.009546  \n",
              "rating                      1.000000  "
            ]
          },
          "execution_count": 112,
          "metadata": {},
          "output_type": "execute_result"
        }
      ],
      "source": [
        "recipe_all[[\"minutes\", \"n_steps\", \"n_ingredients\", \"n_tags\", \"nutrition_sum\", \"total_year_from_submission\", \"rating\"]].corr()"
      ]
    },
    {
      "cell_type": "code",
      "execution_count": null,
      "metadata": {
        "id": "oEuCJNhPNy6_",
        "outputId": "742d4ab4-cf04-480b-a0f3-89a4e65c8191"
      },
      "outputs": [
        {
          "data": {
            "text/plain": [
              "[]"
            ]
          },
          "execution_count": 113,
          "metadata": {},
          "output_type": "execute_result"
        },
        {
          "data": {
            "image/png": "[encoded data removed]",
            "text/plain": [
              "<Figure size 640x480 with 1 Axes>"
            ]
          },
          "metadata": {},
          "output_type": "display_data"
        }
      ],
      "source": [
        "y.plot(kind=\"hist\")\n",
        "plt.plot()\n",
        "## highly skewed data"
      ]
    },
    {
      "cell_type": "markdown",
      "metadata": {
        "id": "Pu6pQdwNNy6_"
      },
      "source": [
        "## Modeling & Evaluation"
      ]
    },
    {
      "cell_type": "code",
      "execution_count": null,
      "metadata": {
        "id": "vS8saEuANy6_",
        "outputId": "6e279431-84c5-4d1b-a98c-5290353b76b8"
      },
      "outputs": [
        {
          "name": "stdout",
          "output_type": "stream",
          "text": [
            "                      feature       VIF\n",
            "0                     minutes  1.000004\n",
            "1                     n_steps  4.359603\n",
            "2               n_ingredients  7.250491\n",
            "3                      n_tags  6.658618\n",
            "4               nutrition_sum  1.120909\n",
            "5  total_year_from_submission  9.697658\n"
          ]
        }
      ],
      "source": [
        "from statsmodels.stats.outliers_influence import variance_inflation_factor\n",
        "# VIF dataframe\n",
        "vif_data = pd.DataFrame()\n",
        "vif_data[\"feature\"] = X.columns\n",
        "\n",
        "# calculating VIF for each feature\n",
        "vif_data[\"VIF\"] = [variance_inflation_factor(X.values, i)\n",
        "                          for i in range(len(X.columns))]\n",
        "print(vif_data)"
      ]
    },
    {
      "cell_type": "code",
      "execution_count": null,
      "metadata": {
        "id": "0hOf-xEXNy6_",
        "outputId": "f6fa1598-a375-4d88-e3c8-44814f4d2445"
      },
      "outputs": [
        {
          "name": "stdout",
          "output_type": "stream",
          "text": [
            "         feature       VIF\n",
            "0        minutes  1.000003\n",
            "1        n_steps  4.303157\n",
            "2  n_ingredients  6.086623\n",
            "3         n_tags  3.611267\n",
            "4  nutrition_sum  1.114769\n"
          ]
        }
      ],
      "source": [
        "# VIF dataframe\n",
        "vif_data = pd.DataFrame()\n",
        "vif_data[\"feature\"] = X.drop(\"total_year_from_submission\",axis=1).columns\n",
        "\n",
        "# calculating VIF for each feature\n",
        "vif_data[\"VIF\"] = [variance_inflation_factor(X.drop(\"total_year_from_submission\",axis=1).values, i)\n",
        "                          for i in range(len(X.drop(\"total_year_from_submission\",axis=1).columns))]\n",
        "\n",
        "print(vif_data)"
      ]
    },
    {
      "cell_type": "code",
      "execution_count": null,
      "metadata": {
        "id": "lqy7DiKvNy6_"
      },
      "outputs": [],
      "source": [
        "from sklearn.preprocessing import StandardScaler\n",
        "scaler = StandardScaler()\n",
        "X_scaled = scaler.fit_transform(X)"
      ]
    },
    {
      "cell_type": "code",
      "execution_count": null,
      "metadata": {
        "id": "9nxdAXs_Ny7A"
      },
      "outputs": [],
      "source": [
        "from sklearn.model_selection import cross_val_score, KFold\n",
        "# Train machine learning model\n",
        "from sklearn.linear_model import LinearRegression\n",
        "from sklearn.preprocessing import PolynomialFeatures\n",
        "from sklearn.pipeline import make_pipeline\n",
        "# Evaluate model performance using MSE\n",
        "from sklearn.metrics import mean_squared_error"
      ]
    },
    {
      "cell_type": "markdown",
      "source": [
        "### 1. Linear Regression"
      ],
      "metadata": {
        "id": "7QQBre38PVWK"
      }
    },
    {
      "cell_type": "code",
      "execution_count": null,
      "metadata": {
        "id": "CpoMb4vXNy7A",
        "outputId": "182bb422-5516-46c0-cae6-3c5a1a058c0b"
      },
      "outputs": [
        {
          "name": "stdout",
          "output_type": "stream",
          "text": [
            "=== Linear Regression Coefficients (Averaged Over 10 Folds) ===\n",
            "  Feature  Avg Coefficient\n",
            "0      X1        -1.125977\n",
            "1      X2        -0.029203\n",
            "2      X3         0.005229\n",
            "3      X4         0.002459\n",
            "4      X5        -0.019626\n",
            "5      X6        -0.011154\n",
            "\n",
            "=== Model Comparison (RMSE with 10-Fold CV) ===\n",
            "                              Model  Avg RMSE (10-Fold CV)\n",
            "0           Multi Linear Regression           1.279412e+02\n",
            "1  Polynomial Regression (Degree 2)           1.184506e+10\n"
          ]
        }
      ],
      "source": [
        "# Set up 10-fold cross-validation\n",
        "kf = KFold(n_splits=10, shuffle=True, random_state=42)\n",
        "\n",
        "### MULTIPLE LINEAR REGRESSION WITH COEFFICIENTS ###\n",
        "linear_mse_scores = []\n",
        "linear_coefficients_list = []\n",
        "\n",
        "for train_idx, test_idx in kf.split(X_scaled):\n",
        "    X_train, X_test = X_scaled[train_idx], X_scaled[test_idx]\n",
        "    y_train, y_test = y[train_idx], y[test_idx]\n",
        "\n",
        "    # Train model\n",
        "# Train machine learning model\n",
        "    model = LinearRegression()\n",
        "    model.fit(X_train, y_train)\n",
        "\n",
        "    # Predict and compute RMSE\n",
        "    y_pred = model.predict(X_test)\n",
        "# Evaluate model performance using MSE\n",
        "    mse = mean_squared_error(y_test, y_pred)\n",
        "    linear_mse_scores.append(mse)\n",
        "\n",
        "    # Store coefficients\n",
        "    linear_coefficients_list.append(model.coef_)\n",
        "\n",
        "# Compute average RMSE and coefficients\n",
        "linear_mse_avg = np.mean(linear_mse_scores)\n",
        "linear_coefficients_avg = np.mean(linear_coefficients_list, axis=0)\n",
        "\n",
        "# Create DataFrame for coefficients\n",
        "linear_results = pd.DataFrame({\n",
        "    \"Feature\": [f\"X{i}\" for i in range(1, X_scaled.shape[1] + 1)],\n",
        "    \"Avg Coefficient\": linear_coefficients_avg\n",
        "})\n",
        "\n",
        "### POLYNOMIAL REGRESSION (Degree=2) ###\n",
        "poly_degree = 2\n",
        "poly_mse_scores = []\n",
        "\n",
        "for train_idx, test_idx in kf.split(X_scaled):\n",
        "    X_train, X_test = X_scaled[train_idx], X_scaled[test_idx]\n",
        "    y_train, y_test = y[train_idx], y[test_idx]\n",
        "\n",
        "    # Transform features for polynomial regression\n",
        "    poly = PolynomialFeatures(degree=poly_degree)\n",
        "    X_train_poly = poly.fit_transform(X_train)\n",
        "    X_test_poly = poly.transform(X_test)\n",
        "\n",
        "    # Fit model\n",
        "# Train machine learning model\n",
        "    poly_model = LinearRegression().fit(X_train_poly, y_train)\n",
        "\n",
        "    # Predict and compute RMSE\n",
        "    y_pred = poly_model.predict(X_test_poly)\n",
        "# Evaluate model performance using MSE\n",
        "    mse = mean_squared_error(y_test, y_pred)\n",
        "    poly_mse_scores.append(mse)\n",
        "\n",
        "# Compute average RMSE score across folds\n",
        "poly_mse_avg = np.mean(poly_mse_scores)\n",
        "\n",
        "# Create DataFrame for RMSE scores\n",
        "model_comparison = pd.DataFrame({\n",
        "    \"Model\": [\"Multi Linear Regression\", f\"Polynomial Regression (Degree {poly_degree})\"],\n",
        "    \"Avg RMSE (10-Fold CV)\": [linear_mse_avg, poly_mse_avg]\n",
        "})\n",
        "\n",
        "# Display results\n",
        "print(\"=== Linear Regression Coefficients (Averaged Over 10 Folds) ===\")\n",
        "print(linear_results)\n",
        "\n",
        "print(\"\\n=== Model Comparison (RMSE with 10-Fold CV) ===\")\n",
        "print(model_comparison)"
      ]
    },
    {
      "cell_type": "markdown",
      "metadata": {
        "id": "c89f432d"
      },
      "source": [
        "### 2. GLM"
      ]
    },
    {
      "cell_type": "code",
      "execution_count": null,
      "metadata": {
        "id": "iIsj79tJNy7A",
        "outputId": "e375e5c3-9ec0-4dd9-eae0-8b284668519a"
      },
      "outputs": [
        {
          "name": "stdout",
          "output_type": "stream",
          "text": [
            "                 Generalized Linear Model Regression Results                  \n",
            "==============================================================================\n",
            "Dep. Variable:                 rating   No. Observations:               231637\n",
            "Model:                            GLM   Df Residuals:                   231630\n",
            "Model Family:                Binomial   Df Model:                            6\n",
            "Link Function:                  Logit   Scale:                          1.0000\n",
            "Method:                          IRLS   Log-Likelihood:                -72945.\n",
            "Date:                Sat, 15 Mar 2025   Deviance:                       70485.\n",
            "Time:                        22:25:03   Pearson chi2:                 7.99e+04\n",
            "No. Iterations:                     5   Pseudo R-squ. (CS):          0.0004478\n",
            "Covariance Type:            nonrobust                                         \n",
            "==============================================================================\n",
            "                 coef    std err          z      P>|z|      [0.025      0.975]\n",
            "------------------------------------------------------------------------------\n",
            "const          1.8956      0.006    307.241      0.000       1.883       1.908\n",
            "x1             0.0020      0.009      0.218      0.827      -0.016       0.020\n",
            "x2            -0.0485      0.007     -7.324      0.000      -0.061      -0.035\n",
            "x3             0.0092      0.007      1.346      0.178      -0.004       0.022\n",
            "x4             0.0039      0.006      0.618      0.536      -0.009       0.016\n",
            "x5            -0.0497      0.009     -5.277      0.000      -0.068      -0.031\n",
            "x6            -0.0189      0.006     -2.984      0.003      -0.031      -0.006\n",
            "==============================================================================\n"
          ]
        }
      ],
      "source": [
        "# Generalized linear regression model\n",
        "import statsmodels.api as sm\n",
        "from statsmodels.genmod.families import Binomial\n",
        "\n",
        "# Standarize y to constrain of the range [0,5]\n",
        "y_transformed = y / 5  # Scale to 0〜1\n",
        "\n",
        "# GLM + Logistic Reg\n",
        "glm_model = sm.GLM(y_transformed, sm.add_constant(X_scaled), family=sm.families.Binomial())\n",
        "glm_results = glm_model.fit()\n",
        "\n",
        "# Take back to 0~5 for predicted values\n",
        "y_pred = glm_results.predict(sm.add_constant(X_scaled)) * 5\n",
        "\n",
        "# Evaluate model performance using MSE\n",
        "glm_mse_avg = mean_squared_error(y, y_pred)\n",
        "\n",
        "print(glm_results.summary())"
      ]
    },
    {
      "cell_type": "code",
      "execution_count": null,
      "metadata": {
        "id": "SNTwOKfPNy7A",
        "outputId": "4a0ec01b-ef26-4666-d612-b42438239399"
      },
      "outputs": [
        {
          "name": "stdout",
          "output_type": "stream",
          "text": [
            "                         QuantReg Regression Results                          \n",
            "==============================================================================\n",
            "Dep. Variable:                 rating   Pseudo R-squared:              0.01561\n",
            "Model:                       QuantReg   Bandwidth:                     0.05481\n",
            "Method:                 Least Squares   Sparsity:                        1.747\n",
            "Date:                Sat, 15 Mar 2025   No. Observations:               231637\n",
            "Time:                        22:25:04   Df Residuals:                   231630\n",
            "                                        Df Model:                            6\n",
            "==============================================================================\n",
            "                 coef    std err          t      P>|t|      [0.025      0.975]\n",
            "------------------------------------------------------------------------------\n",
            "const          4.7353      0.002   2609.465      0.000       4.732       4.739\n",
            "x1         -7.233e-05      0.002     -0.040      0.968      -0.004       0.003\n",
            "x2             0.0028      0.002      1.384      0.166      -0.001       0.007\n",
            "x3            -0.0131      0.002     -6.516      0.000      -0.017      -0.009\n",
            "x4            -0.0229      0.002    -12.291      0.000      -0.027      -0.019\n",
            "x5            -0.0031      0.002     -1.706      0.088      -0.007       0.000\n",
            "x6            -0.1157      0.002    -62.142      0.000      -0.119      -0.112\n",
            "==============================================================================\n",
            "Quantile Regression MSE: 1.1435\n"
          ]
        }
      ],
      "source": [
        "import statsmodels.api as sm\n",
        "\n",
        "# Introduce quantile regression\n",
        "quantile_model = sm.QuantReg(y, sm.add_constant(X_scaled)).fit(q=0.5)\n",
        "\n",
        "# Prediction\n",
        "y_pred = np.clip(quantile_model.predict(sm.add_constant(X_scaled)), 0, 5)\n",
        "\n",
        "# Calculate MSE\n",
        "# Evaluate model performance using MSE\n",
        "quantile_mse = mean_squared_error(y, y_pred)\n",
        "\n",
        "print(quantile_model.summary())\n",
        "print(f\"Quantile Regression MSE: {quantile_mse:.4f}\")"
      ]
    },
    {
      "cell_type": "code",
      "execution_count": null,
      "metadata": {
        "id": "2SK23DilNy7B"
      },
      "outputs": [],
      "source": [
        "import tensorflow as tf\n",
        "from tensorflow import keras\n",
        "# Split data into training and test sets\n",
        "from sklearn.model_selection import train_test_split"
      ]
    },
    {
      "cell_type": "code",
      "execution_count": null,
      "metadata": {
        "id": "W60AI79_Ny7B",
        "outputId": "7738cd15-ed9a-4b2c-c677-658f6c888849"
      },
      "outputs": [
        {
          "name": "stderr",
          "output_type": "stream",
          "text": [
            "/Users/moritakento/Library/Python/3.9/lib/python/site-packages/keras/src/layers/core/dense.py:87: UserWarning: Do not pass an `input_shape`/`input_dim` argument to a layer. When using Sequential models, prefer using an `Input(shape)` object as the first layer in the model instead.\n",
            "  super().__init__(activity_regularizer=activity_regularizer, **kwargs)\n"
          ]
        },
        {
          "name": "stdout",
          "output_type": "stream",
          "text": [
            "\u001b[1m1448/1448\u001b[0m \u001b[32m━━━━━━━━━━━━━━━━━━━━\u001b[0m\u001b[37m\u001b[0m \u001b[1m0s\u001b[0m 289us/step\n",
            "MLP Regression MSE: 0.9766\n"
          ]
        }
      ],
      "source": [
        "# Split data into training and test sets\n",
        "X_train, X_test, y_train, y_test = train_test_split(X_scaled, y, test_size=0.2, random_state=42)\n",
        "\n",
        "model = keras.Sequential([\n",
        "    keras.layers.Dense(64, activation=\"relu\", input_shape=(X_scaled.shape[1],)),\n",
        "    keras.layers.Dense(32, activation=\"relu\"),\n",
        "    keras.layers.Dense(1, activation=\"sigmoid\")\n",
        "])\n",
        "\n",
        "model.compile(loss=\"mse\", optimizer=\"adam\")\n",
        "\n",
        "model.fit(X_train, y_train/5, epochs=100, batch_size=10, verbose=0)\n",
        "\n",
        "y_pred = model.predict(X_test).flatten() * 5\n",
        "y_pred = np.clip(y_pred, 0, 5)\n",
        "\n",
        "# Evaluate model performance using MSE\n",
        "mlp_mse = mean_squared_error(y_test, y_pred)\n",
        "print(f\"MLP Regression MSE: {mlp_mse:.4f}\")"
      ]
    },
    {
      "cell_type": "markdown",
      "metadata": {
        "id": "068caa18"
      },
      "source": [
        "### 3. Random Forest Regressor"
      ]
    },
    {
      "cell_type": "code",
      "execution_count": null,
      "metadata": {
        "id": "ZZf6zpp-Ny7B",
        "outputId": "b9c992cb-38d5-4646-d565-f9a89adf80cd"
      },
      "outputs": [
        {
          "name": "stdout",
          "output_type": "stream",
          "text": [
            "Random Forest MSE: 0.1454\n"
          ]
        }
      ],
      "source": [
        "# Train machine learning model\n",
        "from sklearn.ensemble import RandomForestRegressor\n",
        "\n",
        "# Train machine learning model\n",
        "rf_model = RandomForestRegressor(n_estimators=100, random_state=42)\n",
        "rf_model.fit(X_scaled,y)\n",
        "\n",
        "y_pred = np.clip(rf_model.predict(X_scaled),0,5)\n",
        "\n",
        "# Evaluate model performance using MSE\n",
        "rf_mse = mean_squared_error(y, y_pred)\n",
        "print(f\"Random Forest MSE: {rf_mse:.4f}\")"
      ]
    },
    {
      "cell_type": "code",
      "execution_count": null,
      "metadata": {
        "id": "oGc8hVMPNy7B",
        "outputId": "3feb0132-49a9-4e7c-f20b-741984be04fb"
      },
      "outputs": [
        {
          "name": "stdout",
          "output_type": "stream",
          "text": [
            "\n",
            "=== Feature Importances (Sorted) ===\n",
            "                      Feature  Importance\n",
            "4               nutrition_sum    0.361614\n",
            "3                      n_tags    0.159167\n",
            "1                     n_steps    0.134766\n",
            "0                     minutes    0.125421\n",
            "2               n_ingredients    0.119985\n",
            "5  total_year_from_submission    0.099047\n"
          ]
        }
      ],
      "source": [
        "feature_importances = rf_model.feature_importances_\n",
        "\n",
        "feature_importances_df = pd.DataFrame({\n",
        "    \"Feature\": [f\"{numeric_independent_columns[i]}\" for i in range(X_scaled.shape[1])],\n",
        "    \"Importance\": feature_importances\n",
        "}).sort_values(by=\"Importance\", ascending=False)\n",
        "\n",
        "print(\"\\n=== Feature Importances (Sorted) ===\")\n",
        "print(feature_importances_df)"
      ]
    },
    {
      "cell_type": "code",
      "execution_count": null,
      "metadata": {
        "id": "aLpL9qtMNy7B",
        "outputId": "9e39e766-ec25-4cd1-932d-1638f49cf0a2"
      },
      "outputs": [
        {
          "data": {
            "image/png": "[encoded data removed]",
            "text/plain": [
              "<Figure size 1000x600 with 1 Axes>"
            ]
          },
          "metadata": {},
          "output_type": "display_data"
        }
      ],
      "source": [
        "import matplotlib.pyplot as plt\n",
        "\n",
        "# Plot feature importances\n",
        "plt.figure(figsize=(10, 6))\n",
        "plt.barh(feature_importances_df[\"Feature\"], feature_importances_df[\"Importance\"], color='darkorange')\n",
        "plt.xlabel(\"Importance\")\n",
        "plt.ylabel(\"Feature\")\n",
        "plt.title(\"Feature Importance\")\n",
        "plt.gca().invert_yaxis()  # Highest importance at the top\n",
        "plt.show()"
      ]
    },
    {
      "cell_type": "code",
      "execution_count": null,
      "metadata": {
        "id": "LmGw7UB6Ny7B",
        "outputId": "ffb7def9-0d24-44da-f34c-84a59a0954bc"
      },
      "outputs": [
        {
          "name": "stdout",
          "output_type": "stream",
          "text": [
            "                  Model  Avg MSE (10-Fold CV)\n",
            "0     Linear Regression            127.941242\n",
            "1            GLM (Beta)              0.980391\n",
            "2  MLP (Neural Network)              0.976629\n",
            "3         Random Forest              0.145434\n"
          ]
        }
      ],
      "source": [
        "kf = KFold(n_splits=10, shuffle=True, random_state=42)\n",
        "\n",
        "\n",
        "results = pd.DataFrame({\n",
        "    \"Model\": [\"Linear Regression\", \"GLM (Beta)\", \"MLP (Neural Network)\", \"Random Forest\"],\n",
        "    \"Avg MSE (10-Fold CV)\": [linear_mse_avg, glm_mse_avg, mlp_mse, rf_mse]\n",
        "})\n",
        "\n",
        "print(results)"
      ]
    }
  ],
  "metadata": {
    "kernelspec": {
      "display_name": "Python 3.9.6 64-bit",
      "language": "python",
      "name": "python3"
    },
    "language_info": {
      "codemirror_mode": {
        "name": "ipython",
        "version": 3
      },
      "file_extension": ".py",
      "mimetype": "text/x-python",
      "name": "python",
      "nbconvert_exporter": "python",
      "pygments_lexer": "ipython3",
      "version": "3.9.6"
    },
    "vscode": {
      "interpreter": {
        "hash": "31f2aee4e71d21fbe5cf8b01ff0e069b9275f58929596ceb00d14d90e3e16cd6"
      }
    },
    "colab": {
      "provenance": []
    }
  },
  "nbformat": 4,
  "nbformat_minor": 0
}